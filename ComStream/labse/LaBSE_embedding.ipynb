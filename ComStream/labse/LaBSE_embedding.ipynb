{
 "nbformat": 4,
 "nbformat_minor": 0,
 "metadata": {
  "colab": {
   "name": "LaBSE.ipynb",
   "provenance": [],
   "collapsed_sections": [],
   "authorship_tag": "ABX9TyOk+dH4WKT45YJIYudmkGdv"
  },
  "kernelspec": {
   "name": "pycharm-61212a77",
   "language": "python",
   "display_name": "PyCharm (ComStream)"
  }
 },
 "cells": [
  {
   "cell_type": "code",
   "execution_count": null,
   "outputs": [],
   "source": [
    "# installation\n",
    "!pip install bert-for-tf2\n"
   ],
   "metadata": {
    "collapsed": false,
    "pycharm": {
     "name": "#%%\n"
    }
   }
  },
  {
   "cell_type": "code",
   "execution_count": null,
   "outputs": [],
   "source": [
    "import numpy as np\n",
    "import tensorflow as tf\n",
    "import tensorflow_hub as hub\n",
    "\n",
    "def get_model(model_url, max_seq_length):\n",
    "  labse_layer = hub.KerasLayer(model_url, trainable=False)\n",
    "\n",
    "  # Define input.\n",
    "  input_word_ids = tf.keras.layers.Input(shape=(max_seq_length,), dtype=tf.int32,\n",
    "                                         name=\"input_word_ids\")\n",
    "  input_mask = tf.keras.layers.Input(shape=(max_seq_length,), dtype=tf.int32,\n",
    "                                     name=\"input_mask\")\n",
    "  segment_ids = tf.keras.layers.Input(shape=(max_seq_length,), dtype=tf.int32,\n",
    "                                      name=\"segment_ids\")\n",
    "\n",
    "  # LaBSE layer.\n",
    "  pooled_output,  _ = labse_layer([input_word_ids, input_mask, segment_ids])\n",
    "\n",
    "  # The embedding is l2 normalized.\n",
    "  pooled_output = tf.keras.layers.Lambda(\n",
    "      lambda x: tf.nn.l2_normalize(x, axis=1))(pooled_output)\n",
    "\n",
    "  # Define model.\n",
    "  return tf.keras.Model(\n",
    "        inputs=[input_word_ids, input_mask, segment_ids],\n",
    "        outputs=pooled_output), labse_layer\n",
    "\n",
    "max_seq_length = 64\n",
    "labse_model, labse_layer = get_model(\n",
    "    model_url=\"https://tfhub.dev/google/LaBSE/1\", max_seq_length=max_seq_length)\n"
   ],
   "metadata": {
    "collapsed": false,
    "pycharm": {
     "name": "#%%\n"
    }
   }
  },
  {
   "cell_type": "code",
   "metadata": {
    "id": "TArAczHEaD12",
    "executionInfo": {
     "status": "ok",
     "timestamp": 1610302178346,
     "user_tz": -210,
     "elapsed": 14004,
     "user": {
      "displayName": "Ali Najafi",
      "photoUrl": "https://lh3.googleusercontent.com/a-/AOh14GjJisDrJoiVpUE2ANL6mtgeNmK-E0OCEO-1-2STgg=s64",
      "userId": "17342877629520304673"
     }
    }
   },
   "source": [
    "import bert\n",
    "\n",
    "vocab_file = labse_layer.resolved_object.vocab_file.asset_path.numpy()\n",
    "do_lower_case = labse_layer.resolved_object.do_lower_case.numpy()\n",
    "tokenizer = bert.bert_tokenization.FullTokenizer(vocab_file, do_lower_case)\n",
    "\n",
    "def create_input(input_strings, tokenizer, max_seq_length):\n",
    "\n",
    "  input_ids_all, input_mask_all, segment_ids_all = [], [], []\n",
    "  for input_string in input_strings:\n",
    "    # Tokenize input.\n",
    "    input_tokens = [\"[CLS]\"] + tokenizer.tokenize(input_string) + [\"[SEP]\"]\n",
    "    input_ids = tokenizer.convert_tokens_to_ids(input_tokens)\n",
    "    sequence_length = min(len(input_ids), max_seq_length)\n",
    "\n",
    "    # Padding or truncation.\n",
    "    if len(input_ids) >= max_seq_length:\n",
    "      input_ids = input_ids[:max_seq_length]\n",
    "    else:\n",
    "      input_ids = input_ids + [0] * (max_seq_length - len(input_ids))\n",
    "\n",
    "    input_mask = [1] * sequence_length + [0] * (max_seq_length - sequence_length)\n",
    "\n",
    "    input_ids_all.append(input_ids)\n",
    "    input_mask_all.append(input_mask)\n",
    "    segment_ids_all.append([0] * max_seq_length)\n",
    "\n",
    "  return np.array(input_ids_all), np.array(input_mask_all), np.array(segment_ids_all)\n",
    "\n",
    "def encode(input_text):\n",
    "  input_ids, input_mask, segment_ids = create_input(\n",
    "    input_text, tokenizer, max_seq_length)\n",
    "  return labse_model([input_ids, input_mask, segment_ids])\n"
   ],
   "execution_count": 18,
   "outputs": []
  },
  {
   "cell_type": "code",
   "metadata": {
    "id": "5X2tPd0WZ9Xm",
    "executionInfo": {
     "status": "ok",
     "timestamp": 1610303025898,
     "user_tz": -210,
     "elapsed": 2443,
     "user": {
      "displayName": "Ali Najafi",
      "photoUrl": "https://lh3.googleusercontent.com/a-/AOh14GjJisDrJoiVpUE2ANL6mtgeNmK-E0OCEO-1-2STgg=s64",
      "userId": "17342877629520304673"
     }
    }
   },
   "source": [
    "english_sentences = [\"sad\",\"happy\"]\n",
    "\n",
    "english_embeddings = encode(english_sentences)"
   ],
   "execution_count": 21,
   "outputs": []
  },
  {
   "cell_type": "code",
   "metadata": {
    "colab": {
     "base_uri": "https://localhost:8080/"
    },
    "id": "G7E4BUniZ9aQ",
    "executionInfo": {
     "status": "ok",
     "timestamp": 1610303027556,
     "user_tz": -210,
     "elapsed": 813,
     "user": {
      "displayName": "Ali Najafi",
      "photoUrl": "https://lh3.googleusercontent.com/a-/AOh14GjJisDrJoiVpUE2ANL6mtgeNmK-E0OCEO-1-2STgg=s64",
      "userId": "17342877629520304673"
     }
    },
    "outputId": "83bd0fd2-79e9-4ee6-b3c3-828967251e83"
   },
   "source": [
    "english_embeddings"
   ],
   "execution_count": 22,
   "outputs": [
    {
     "output_type": "execute_result",
     "data": {
      "text/plain": [
       "<tf.Tensor: shape=(2, 768), dtype=float32, numpy=\n",
       "array([[-0.05741753,  0.01276286, -0.03474399, ..., -0.02278438,\n",
       "        -0.03494317,  0.01276097],\n",
       "       [ 0.00984285, -0.01521355, -0.02483888, ...,  0.03605198,\n",
       "        -0.01959352, -0.03735406]], dtype=float32)>"
      ]
     },
     "metadata": {
      "tags": []
     },
     "execution_count": 22
    }
   ]
  },
  {
   "cell_type": "code",
   "metadata": {
    "id": "ihGaKjqDijXT",
    "executionInfo": {
     "status": "ok",
     "timestamp": 1610303060978,
     "user_tz": -210,
     "elapsed": 1061,
     "user": {
      "displayName": "Ali Najafi",
      "photoUrl": "https://lh3.googleusercontent.com/a-/AOh14GjJisDrJoiVpUE2ANL6mtgeNmK-E0OCEO-1-2STgg=s64",
      "userId": "17342877629520304673"
     }
    }
   },
   "source": [
    ""
   ],
   "execution_count": 25,
   "outputs": []
  }
 ]
}